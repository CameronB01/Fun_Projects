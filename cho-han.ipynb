{
 "cells": [
  {
   "cell_type": "code",
   "execution_count": 21,
   "metadata": {},
   "outputs": [
    {
     "name": "stdout",
     "output_type": "stream",
     "text": [
      "You have 5000 mon. How much would you like to bet? (or QUIT)\n",
      "400\n",
      "The dealer swirls the cup and you hear the rattle of dice.\n",
      "    The dealer slams the cup on the floor, still covering the\n",
      "    dice and asks for your bet.\n",
      "    \n",
      "CHO (even) or HAN (odd)?\n",
      "You lost. You lose your 400 mon.\n",
      "Your new balance is 4600.\n",
      "Would you like to play again? (yes or  no)\n"
     ]
    }
   ],
   "source": [
    "import random\n",
    "\n",
    "mon = 5000\n",
    "while True:\n",
    "    print(\"You have {} mon. How much would you like to bet? (or QUIT)\".format(mon))\n",
    "    bet = input(\"> \")\n",
    "\n",
    "    while bet.isdecimal() == False:\n",
    "        bet = input(\"> \")\n",
    "\n",
    "    if int(bet) > mon:\n",
    "        print(\"Sorry, you don't have that much to bet. Please enter a smaller amount:\")\n",
    "        bet = input(\"> \")\n",
    "\n",
    "    print(bet)\n",
    "\n",
    "    print(\"\"\"The dealer swirls the cup and you hear the rattle of dice.\n",
    "    The dealer slams the cup on the floor, still covering the\n",
    "    dice and asks for your bet.\n",
    "    \"\"\")\n",
    "\n",
    "    print(\"CHO (even) or HAN (odd)?\")\n",
    "    choice = input(\"> \")\n",
    "\n",
    "    dice1 = random.randint(1,6)\n",
    "    dice2 = random.randint(1,6)\n",
    "\n",
    "    total = dice1 + dice2\n",
    "\n",
    "    if total % 2 == 0 and choice == \"CHO\":\n",
    "        print(\"You won! You take {} mon.\".format(str(int(bet) * 2)))\n",
    "        mon = str(int(mon) + (int(bet) * 2))\n",
    "    elif total % 2 != 0 and choice == \"HAN\":\n",
    "        print(\"You won! You take {} mon.\".format(str(int(bet) * 2)))\n",
    "        mon = str(int(mon) + (int(bet) * 2))\n",
    "    else:\n",
    "        print(\"You lost. You lose your {} mon.\".format(bet))\n",
    "        mon = str(int(mon) - int(bet))\n",
    "\n",
    "    print(\"Your new balance is {}.\".format(mon))\n",
    "\n",
    "    print(\"Would you like to play again? (yes or  no)\")\n",
    "    again = input(\"> \")\n",
    "    if again == \"yes\":\n",
    "        continue\n",
    "    else:\n",
    "        break\n"
   ]
  },
  {
   "cell_type": "code",
   "execution_count": null,
   "metadata": {},
   "outputs": [],
   "source": []
  },
  {
   "cell_type": "code",
   "execution_count": null,
   "metadata": {},
   "outputs": [],
   "source": []
  }
 ],
 "metadata": {
  "kernelspec": {
   "display_name": "Python 3",
   "language": "python",
   "name": "python3"
  },
  "language_info": {
   "codemirror_mode": {
    "name": "ipython",
    "version": 3
   },
   "file_extension": ".py",
   "mimetype": "text/x-python",
   "name": "python",
   "nbconvert_exporter": "python",
   "pygments_lexer": "ipython3",
   "version": "3.12.1"
  }
 },
 "nbformat": 4,
 "nbformat_minor": 2
}
