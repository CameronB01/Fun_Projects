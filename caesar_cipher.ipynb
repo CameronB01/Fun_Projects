{
 "cells": [
  {
   "cell_type": "code",
   "execution_count": 36,
   "metadata": {},
   "outputs": [
    {
     "name": "stdout",
     "output_type": "stream",
     "text": [
      "MJQQT BTWQI\n"
     ]
    }
   ],
   "source": [
    "key = input(\"Input the number of letters you want to shift by: \")\n",
    "\n",
    "while key.isdecimal() == False:\n",
    "    key = input(\"Input the number of letters you want to shift by: \")\n",
    "\n",
    "cipher = input(\"Do you want to (e)ncrypt or (d)ecrypt: \")\n",
    "\n",
    "message = input(\"Now input the message you want to encrypt or decrypt:\")\n",
    "\n",
    "alphabet = ['a', 'b', 'c', 'd', 'e', 'f', 'g', 'h', 'i', 'j', 'k', 'l', 'm', 'n', 'o', 'p', 'q', 'r', 's', 't', 'u', 'v', 'w', 'x', 'y', 'z']\n",
    "\n",
    "message_break = [x for x in message.lower()]\n",
    "\n",
    "for i, item in enumerate(message_break):\n",
    "    if item == ' ':\n",
    "        continue\n",
    "    else:\n",
    "        if cipher == 'e':\n",
    "            message_break[i] = alphabet[alphabet.index(item) + int(key)] if alphabet.index(item) + int(key) <= 25 else alphabet[alphabet.index(item) + int(key) - 26]\n",
    "        else:\n",
    "            message_break[i] = alphabet[alphabet.index(item) - int(key)] if alphabet.index(item) + int(key) <= 25 else alphabet[alphabet.index(item) - int(key) - 26]\n",
    "\n",
    "coded = ''.join(message_break)\n",
    "\n",
    "print(coded.upper())\n"
   ]
  },
  {
   "cell_type": "code",
   "execution_count": null,
   "metadata": {},
   "outputs": [],
   "source": []
  }
 ],
 "metadata": {
  "kernelspec": {
   "display_name": "Python 3",
   "language": "python",
   "name": "python3"
  },
  "language_info": {
   "codemirror_mode": {
    "name": "ipython",
    "version": 3
   },
   "file_extension": ".py",
   "mimetype": "text/x-python",
   "name": "python",
   "nbconvert_exporter": "python",
   "pygments_lexer": "ipython3",
   "version": "3.12.1"
  }
 },
 "nbformat": 4,
 "nbformat_minor": 2
}
