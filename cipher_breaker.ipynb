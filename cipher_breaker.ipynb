{
 "cells": [
  {
   "cell_type": "code",
   "execution_count": 4,
   "metadata": {},
   "outputs": [
    {
     "name": "stdout",
     "output_type": "stream",
     "text": [
      "MJQQT BTWQI\n",
      "NKRRU CUXRJ\n",
      "PMTTW EWZTL\n",
      "SPWWZ HZCWO\n",
      "WTAAD LDGAS\n",
      "BYFFI QILFX\n",
      "HELLO WORLD\n",
      "OLSSV DVYSK\n",
      "WTAAD LDGAS\n",
      "FCJJM UMPJB\n",
      "PMTTW EWZTL\n",
      "AXEEH PHKEW\n",
      "MJQQT BTWQI\n",
      "ZWDDG OGJDV\n",
      "NKRRU CUXRJ\n",
      "CZGGJ RJMGY\n",
      "SPWWZ HZCWO\n",
      "JGNNQ YQTNF\n",
      "BYFFI QILFX\n",
      "URYYB JBEYQ\n",
      "OLSSV DVYSK\n",
      "JGNNQ YQTNF\n",
      "FCJJM UMPJB\n",
      "CZGGJ RJMGY\n",
      "AXEEH PHKEW\n",
      "ZWDDG OGJDV\n",
      "ZWDDG OGJDV\n"
     ]
    }
   ],
   "source": [
    "message = input(\"Input the message you want to decrypt:\")\n",
    "\n",
    "alphabet = ['a', 'b', 'c', 'd', 'e', 'f', 'g', 'h', 'i', 'j', 'k', 'l', 'm', 'n', 'o', 'p', 'q', 'r', 's', 't', 'u', 'v', 'w', 'x', 'y', 'z']\n",
    "\n",
    "message_break = [x for x in message.lower()]\n",
    "\n",
    "iter = 0\n",
    "while iter <= len(alphabet):\n",
    "    for i, item in enumerate(message_break):\n",
    "        if item == ' ':\n",
    "            continue\n",
    "        else:\n",
    "            message_break[i] = alphabet[alphabet.index(item) + iter] if alphabet.index(item) + iter <= 25 else alphabet[alphabet.index(item) + iter - 26]\n",
    "\n",
    "    coded = ''.join(message_break)\n",
    "\n",
    "    print(coded.upper())\n",
    "    iter += 1\n"
   ]
  },
  {
   "cell_type": "code",
   "execution_count": null,
   "metadata": {},
   "outputs": [],
   "source": []
  }
 ],
 "metadata": {
  "kernelspec": {
   "display_name": "Python 3",
   "language": "python",
   "name": "python3"
  },
  "language_info": {
   "codemirror_mode": {
    "name": "ipython",
    "version": 3
   },
   "file_extension": ".py",
   "mimetype": "text/x-python",
   "name": "python",
   "nbconvert_exporter": "python",
   "pygments_lexer": "ipython3",
   "version": "3.12.1"
  }
 },
 "nbformat": 4,
 "nbformat_minor": 2
}
